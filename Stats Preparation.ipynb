{
 "cells": [
  {
   "cell_type": "code",
   "execution_count": 1,
   "id": "b61a3f68",
   "metadata": {},
   "outputs": [],
   "source": [
    "import requests"
   ]
  },
  {
   "cell_type": "code",
   "execution_count": 2,
   "id": "cadcaa7e",
   "metadata": {},
   "outputs": [],
   "source": [
    "years = [i for i in range(1991, 2023)]"
   ]
  },
  {
   "cell_type": "markdown",
   "id": "80525311",
   "metadata": {},
   "source": [
    "Start off with MVP votings from 1991 to 2022, replace year value with curly brackets for faster formatting."
   ]
  },
  {
   "cell_type": "code",
   "execution_count": 3,
   "id": "0a573ae2",
   "metadata": {},
   "outputs": [],
   "source": [
    "mvpUrl = 'https://www.basketball-reference.com/awards/awards_{}.html'"
   ]
  },
  {
   "cell_type": "code",
   "execution_count": 4,
   "id": "5015f163",
   "metadata": {},
   "outputs": [],
   "source": [
    "for i in years:\n",
    "    url = mvpUrl.format(i)\n",
    "    data = requests.get(url)\n",
    "    \n",
    "    with open('MVPs/{}.html'.format(i), 'w+') as file:\n",
    "        file.write(data.text)"
   ]
  },
  {
   "cell_type": "code",
   "execution_count": 5,
   "id": "b051050f",
   "metadata": {},
   "outputs": [],
   "source": [
    "from bs4 import BeautifulSoup"
   ]
  },
  {
   "cell_type": "markdown",
   "id": "9d114529",
   "metadata": {},
   "source": [
    "Read tables as .html files, use the 'Inspect' feature to identify the wanted table with its corresponding HTML ID."
   ]
  },
  {
   "cell_type": "code",
   "execution_count": 6,
   "id": "ce33fe8a",
   "metadata": {},
   "outputs": [],
   "source": [
    "import pandas as pd\n",
    "df = []\n",
    "\n",
    "for i in years:\n",
    "    with open('MVPs/{}.html'.format(i)) as file:\n",
    "        page = file.read()\n",
    "    \n",
    "    soup = BeautifulSoup(page, 'html.parser')\n",
    "    soup.find('tr', class_ = 'over_header').decompose()\n",
    "    mvpTables = soup.find(id = 'mvp')\n",
    "    \n",
    "    mvp = pd.read_html(str(mvpTables))[0]\n",
    "    \n",
    "    mvp[\"MVP Year\"] = i\n",
    "    \n",
    "    df.append(mvp)"
   ]
  },
  {
   "cell_type": "markdown",
   "id": "9ec23e34",
   "metadata": {},
   "source": [
    "Concate and merge into a singular DataFrame, then convert to .csv file."
   ]
  },
  {
   "cell_type": "code",
   "execution_count": 7,
   "id": "1a909f8f",
   "metadata": {},
   "outputs": [],
   "source": [
    "mvps = pd.concat(df)\n",
    "mvps.to_csv('mvps.csv')"
   ]
  },
  {
   "cell_type": "markdown",
   "id": "2f738a9e",
   "metadata": {},
   "source": [
    "The website uses JavaScript to render the table, thus for efficiency purposes the table is not displayed in full. \n",
    "There a chrome driver was used to 'force' the website to load table in entirety."
   ]
  },
  {
   "cell_type": "code",
   "execution_count": 8,
   "id": "d4288485",
   "metadata": {},
   "outputs": [],
   "source": [
    "from selenium import webdriver"
   ]
  },
  {
   "cell_type": "code",
   "execution_count": 9,
   "id": "26545978",
   "metadata": {},
   "outputs": [
    {
     "name": "stderr",
     "output_type": "stream",
     "text": [
      "/var/folders/0b/fq_hhgf15rg3xrts9kbqsbdm0000gn/T/ipykernel_4555/1088626370.py:1: DeprecationWarning: executable_path has been deprecated, please pass in a Service object\n",
      "  driver = webdriver.Chrome(executable_path='/Users/paco/Downloads/chromedriver')\n"
     ]
    }
   ],
   "source": [
    "driver = webdriver.Chrome(executable_path='/Users/paco/Downloads/chromedriver')"
   ]
  },
  {
   "cell_type": "markdown",
   "id": "9758eb51",
   "metadata": {},
   "source": [
    "Same steps to process Player's per-game stats and team records. -> Cell 10 to 20."
   ]
  },
  {
   "cell_type": "code",
   "execution_count": 10,
   "id": "610463ef",
   "metadata": {},
   "outputs": [],
   "source": [
    "playerUrl = 'https://www.basketball-reference.com/leagues/NBA_{}_per_game.html'"
   ]
  },
  {
   "cell_type": "code",
   "execution_count": 11,
   "id": "c6d07923",
   "metadata": {},
   "outputs": [],
   "source": [
    "import time"
   ]
  },
  {
   "cell_type": "code",
   "execution_count": 12,
   "id": "0a9e299f",
   "metadata": {},
   "outputs": [],
   "source": [
    "for i in years:\n",
    "    url = playerUrl.format(i)\n",
    "    \n",
    "    driver.get(url)\n",
    "    driver.execute_script('window.scrollTo(1,9999)')\n",
    "    time.sleep(3)\n",
    "    \n",
    "    link = driver.page_source\n",
    "    with open('Player/{}.html'.format(i), 'w+') as file:\n",
    "        file.write(link)"
   ]
  },
  {
   "cell_type": "code",
   "execution_count": 13,
   "id": "2f8375e6",
   "metadata": {},
   "outputs": [],
   "source": [
    "dfs = []\n",
    "for i in years:\n",
    "    with open('Player/{}.html'.format(i)) as file:\n",
    "        page = file.read()\n",
    "        \n",
    "    soup = BeautifulSoup(page, 'html.parser')\n",
    "    soup.find('tr', class_ = 'thead').decompose()\n",
    "    playerTables = soup.find(id = 'per_game_stats')\n",
    "    \n",
    "    player = pd.read_html(str(playerTables))[0]\n",
    "    player['Year'] = i\n",
    "    dfs.append(player)"
   ]
  },
  {
   "cell_type": "code",
   "execution_count": 14,
   "id": "612c7aaa",
   "metadata": {},
   "outputs": [],
   "source": [
    "players = pd.concat(dfs)\n",
    "players.rename(columns={'MVP Year':'Year'}, inplace=True)"
   ]
  },
  {
   "cell_type": "code",
   "execution_count": 15,
   "id": "3da89d3c",
   "metadata": {},
   "outputs": [],
   "source": [
    "players.to_csv('players.csv')"
   ]
  },
  {
   "cell_type": "code",
   "execution_count": 16,
   "id": "df6ea909",
   "metadata": {},
   "outputs": [],
   "source": [
    "teamUrl = 'https://www.basketball-reference.com/leagues/NBA_{}_standings.html'"
   ]
  },
  {
   "cell_type": "code",
   "execution_count": 17,
   "id": "f01258dc",
   "metadata": {},
   "outputs": [],
   "source": [
    "for i in years:\n",
    "    url = teamUrl.format(i)\n",
    "    data = requests.get(url)\n",
    "    \n",
    "    with open('Team/{}.html'.format(i), 'w+') as file:\n",
    "        file.write(data.text)"
   ]
  },
  {
   "cell_type": "code",
   "execution_count": 18,
   "id": "b71e77cf",
   "metadata": {},
   "outputs": [],
   "source": [
    "dfs = []\n",
    "for i in years:\n",
    "    with open('Team/{}.html'.format(i)) as file:\n",
    "        page = file.read()\n",
    "        \n",
    "    soup = BeautifulSoup(page, 'html.parser')\n",
    "    soup.find('tr', class_ = 'thead').decompose()\n",
    "    teamTables = soup.find(id = 'divs_standings_E')\n",
    "    \n",
    "    team = pd.read_html(str(teamTables))[0]\n",
    "    team['Year'] = i\n",
    "    team[\"Team\"] = team['Eastern Conference']\n",
    "    del team['Eastern Conference']\n",
    "    dfs.append(team)\n",
    "    \n",
    "    soup = BeautifulSoup(page, 'html.parser')\n",
    "    soup.find('tr', class_ = 'thead').decompose()\n",
    "    teamTables = soup.find(id = 'divs_standings_W')\n",
    "    \n",
    "    team = pd.read_html(str(teamTables))[0]\n",
    "    team['Year'] = i\n",
    "    team[\"Team\"] = team['Western Conference']\n",
    "    del team['Western Conference']\n",
    "    dfs.append(team)"
   ]
  },
  {
   "cell_type": "code",
   "execution_count": 19,
   "id": "19369266",
   "metadata": {},
   "outputs": [],
   "source": [
    "teams = pd.concat(dfs)"
   ]
  },
  {
   "cell_type": "code",
   "execution_count": 20,
   "id": "4ebeac92",
   "metadata": {},
   "outputs": [],
   "source": [
    "teams.to_csv('teams.csv')"
   ]
  },
  {
   "cell_type": "markdown",
   "id": "1b8fef9d",
   "metadata": {},
   "source": [
    "Note: Team record was added because it's more of a common sense for people who watch the NBA, that team record to a certain extent matters when it comes to MVP voting. In other words, one might get robbed MVP due to a less satisfactory team record, despite having god-like stats. For example, Kobe Bryant in 2005, 2006 and 2007."
   ]
  }
 ],
 "metadata": {
  "kernelspec": {
   "display_name": "Python 3 (ipykernel)",
   "language": "python",
   "name": "python3"
  },
  "language_info": {
   "codemirror_mode": {
    "name": "ipython",
    "version": 3
   },
   "file_extension": ".py",
   "mimetype": "text/x-python",
   "name": "python",
   "nbconvert_exporter": "python",
   "pygments_lexer": "ipython3",
   "version": "3.10.5"
  }
 },
 "nbformat": 4,
 "nbformat_minor": 5
}
